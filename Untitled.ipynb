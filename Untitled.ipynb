{
 "cells": [
  {
   "cell_type": "markdown",
   "metadata": {},
   "source": [
    "### Beispiel\n",
    "- Anhand des Autonomen Systems der fibonacci Folge aus der Vorlesung mit den Anfangsbedingungen $y[0] = y[1] = 1$ \n",
    "$$y[k] = y[k-1] + y[k-2] $$\n",
    "$$ y[k] - y[k-1] - y[k-2] = 0$$\n",
    "- Verschiebung um $2$ nach links\n",
    "$$ y[k+2] - y[k+1] - y[k] = 0$$\n",
    "- Transformation in den Z-Bereich über die Linksverschiebung. Alle $a_i = 0$, $V = 2$.\n",
    "$$\n",
    "Y(z) \\cdot z^2 - z^2 \\cdot \\big(\\sum_{k=0}^{1} y[k] \\cdot z^{-k}\\big) \n",
    "- Y(z) \\cdot z - z \\cdot \\big(\\sum_{k=0}^{0} y[k] \\cdot z^{-k}\\big) \n",
    "- Y(z) \n",
    "$$\n",
    "$$\n",
    "= Y(z) \\cdot z^2 - z^2 \\cdot \\big(y[0] \\cdot z^{-0} + y[1] \\cdot z^{-1}\\big) \n",
    "- Y(z) \\cdot z - z \\cdot \\big(y[0] \\cdot z^{-0}\\big) \n",
    "- Y(z)$$\n",
    "$$\n",
    "= Y(z) \\cdot z^2 - z^2 \\cdot y[0] - z^{1} \\cdot y[1]\n",
    "- Y(z) \\cdot z - z \\cdot y[0] \n",
    "- Y(z)\n",
    "$$\n",
    "$$\n",
    "= Y(z) \\cdot z^2 - z^2 - z^1\n",
    "- Y(z) \\cdot z - z\n",
    "- Y(z)\n",
    "$$"
   ]
  },
  {
   "cell_type": "markdown",
   "metadata": {},
   "source": [
    "- Da das System kein Eingangssignal besitzt reicht es aus nur die Homogene Lösung zu bestimmen.\n",
    "$$ y[k+2] - y[k+1] - y[k] = 0$$\n",
    "- Transformation in den Z-Bereich über die Verschiebungsregel.\n",
    "$$\n",
    "    a_0 \\cdot Y(z) + \\sum_{i = 1}^{N} a_i \\big( z^{i} \\cdot Y(z) \n",
    "    - \\sum_{j = 0}^{i - 1} y[j] \\cdot z^{i-j} \\big) \n",
    "    = 0\n",
    "$$"
   ]
  },
  {
   "cell_type": "markdown",
   "metadata": {},
   "source": [
    "$$\n",
    "    (z^2 \\cdot Y(z) - ([y[0] \\cdot z^2] + [y[1] \\cdot z^1]))\n",
    "    - Y(z) \n",
    "    - (z^1 \\cdot Y(z) - (y[0] \\cdot z^1))    \n",
    "    = 0\n",
    "$$"
   ]
  },
  {
   "cell_type": "markdown",
   "metadata": {},
   "source": [
    "$$\n",
    "    z^2 Y(z) - y[0] z^2 - y[1] z - z Y(z) + z y[0] - Y(z) = 0\n",
    "$$"
   ]
  },
  {
   "cell_type": "markdown",
   "metadata": {},
   "source": [
    "$$\n",
    "    z^2 Y(z) - z^2 - z - zY(z) + z - Y(z) = 0\n",
    "$$"
   ]
  },
  {
   "cell_type": "markdown",
   "metadata": {},
   "source": [
    "$$\n",
    "    Y(z) \\cdot (z^2 - z - 1) -z^2 = 0\n",
    "$$'"
   ]
  },
  {
   "cell_type": "markdown",
   "metadata": {},
   "source": [
    "$$\n",
    "    Y(z) = \\frac{z^2}{z^2 - z - 1}\n",
    "$$"
   ]
  },
  {
   "cell_type": "code",
   "execution_count": null,
   "metadata": {},
   "outputs": [],
   "source": []
  }
 ],
 "metadata": {
  "kernelspec": {
   "display_name": "Python 3",
   "language": "python",
   "name": "python3"
  },
  "language_info": {
   "codemirror_mode": {
    "name": "ipython",
    "version": 3
   },
   "file_extension": ".py",
   "mimetype": "text/x-python",
   "name": "python",
   "nbconvert_exporter": "python",
   "pygments_lexer": "ipython3",
   "version": "3.6.5"
  }
 },
 "nbformat": 4,
 "nbformat_minor": 2
}
