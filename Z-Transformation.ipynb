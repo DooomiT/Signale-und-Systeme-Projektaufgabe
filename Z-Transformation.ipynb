{
 "cells": [
  {
   "cell_type": "markdown",
   "metadata": {
    "slideshow": {
     "slide_type": "slide"
    }
   },
   "source": [
    "# Motivation\n",
    "* Das Ziel der Z-Transformation ist es, ein diskretes zeitabhängiges Signal $x[k]$ in den Bildbereich bzw. Z-Bereich zu Transformieren. $x[k]$ ist hierbei eine Folge aus reellen oder komplexen Zahlen\n",
    "\n",
    "* Diese Transformation in den Z-Bereich wird zum Lösen von linearen Differenzengleichungen mit konstanten Koeffizienten verwendet. Diese Gleichungen haben die Form $y[k] = b_0 x[k] + \\sum_{i=1}^V b_i \\cdot x[k-i] - \\sum_{i=1}^U a_i \\cdot y[k-i]$\n",
    "\n",
    "* Die Differenzengleichungen im Zeitbereich werden im Bildbereich zu algebraischen Gleichungen. Damit werden Polynome und rationale Funktionen in der Systemtheorie eingeführt.\n",
    "\n",
    "* Systeme welche mit dieser Gleichung beschrieben werden können sind linear und Zeitinvariant. Diese LTI-Systeme treten in der Praxis sehr häufig aus und besitzen eindeutige mathematische Beschreibungen.\n",
    "\n",
    "* Die Z-Transformation lässt sich entweder als einseitige oder als beidseitige Transformation druchführen\n",
    "    * Die einseitige Z-Transformation wird für kausale Signale verwendet (In der Praxis treten diese sehr häufig auf)\n",
    "    \n",
    "    * Die beidseitige Z-Transformation kann auch für nicht kausale Signale verwendet werden    \n"
   ]
  },
  {
   "cell_type": "markdown",
   "metadata": {},
   "source": [
    "![Beschreibung](Beschreibung.svg)"
   ]
  },
  {
   "cell_type": "markdown",
   "metadata": {
    "slideshow": {
     "slide_type": "slide"
    }
   },
   "source": [
    "# Grundlagen\n",
    "## Definitionsgleichung\n",
    "- Die Z-Transformation ist die Laplace-Transformation für diskrete Systeme.\n",
    "\n",
    "- Diese Herleitung bezieht sich auf die einseitige Z-Transformation für ein kausales System."
   ]
  },
  {
   "cell_type": "markdown",
   "metadata": {},
   "source": [
    "- Ein allgemeines Diskretes Signal kann z.B. über eine Ideale Abtastung (Abtastung an jedem Wert $t \\in\\mathrm{N}$) eines kontinuierlichen Signales daargestellt werden\n",
    "$$x_A(t)=\\sum_{k=-\\infty}^\\infty x( k \\cdot T_A ) \\cdot \\delta ( t - k \\cdot T_A )\\label{eq:xAti}$$"
   ]
  },
  {
   "cell_type": "markdown",
   "metadata": {},
   "source": [
    "- Da es sich um ein Kausales Signal handelt wird die untere Summationsgrenze $k = 0$ gilt\n",
    "$$x_A(t)=\\sum_{k=0}^\\infty x( k \\cdot T_A ) \\cdot \\delta ( t - k \\cdot T_A )\\label{eq:xAtn}$$"
   ]
  },
  {
   "cell_type": "markdown",
   "metadata": {},
   "source": [
    "- Führt man eine Laplacetransformation an diesem kontinuierlichen kausalen Signal durch erhält man\n",
    "$$X_A(s) = \\mathcal{L}\\{\\sum_{k=0}^\\infty x( k \\cdot T_A ) \\cdot \\delta ( t - k \\cdot T_A )\\}\\label{eq:xAs}$$"
   ]
  },
  {
   "cell_type": "markdown",
   "metadata": {},
   "source": [
    "- Durch einige Lineare Umformungen erhält man dann die Gleichung\n",
    "$$X_A(s) = \\mathcal{L}\\{\\sum_{k=0}^\\infty x( k \\cdot T_A ) \\cdot \\delta ( t - k \\cdot T_A )\\} = \\sum_{k=0}^\\infty x[k] \\cdot (e^{T_A \\cdot s})^{-k}\\label{eq:LxAk}$$"
   ]
  },
  {
   "cell_type": "markdown",
   "metadata": {},
   "source": [
    "- Die Variable s ist eine Komplexe zahl, substituiert man diese mit $z = e^{T_A \\cdot s}\\label{eq:Zsubs}$\n",
    "erhält man die Gleichung der Z-Transformation\n",
    "$$X(z) = \\sum_{k=0}^\\infty x[k] \\cdot z^{-k}\\textrm{  (1.1)}$$"
   ]
  },
  {
   "cell_type": "markdown",
   "metadata": {},
   "source": [
    "- Die Z-Transformation kann auch mit der Schreibweise $\\mathcal{Z}\\{[x[k]\\} = X(z)$ vereinfacht daargestellt werden\n",
    "\n",
    "- $X(z)$ representiert den Z-Bereich und $x[k]$ den Zeitbereich\n",
    "\n",
    "- Für die inverse Z-Transformation wird die Schreibweise ${\\mathcal{Z}}^{-1}\\{[x[k]\\}$ verwendet"
   ]
  },
  {
   "cell_type": "markdown",
   "metadata": {
    "slideshow": {
     "slide_type": "subslide"
    }
   },
   "source": [
    "### Daarstellung der Idealen Abtastung"
   ]
  },
  {
   "cell_type": "markdown",
   "metadata": {},
   "source": [
    "## Konkrete transformation grundlegender Signale\n",
    "Die Transformationen der Signale werden über die Definitionsgleichung 1.1 der Z-Transformation berechnet   \n",
    " "
   ]
  },
  {
   "cell_type": "markdown",
   "metadata": {},
   "source": [
    "### Der Einheitsimpuls $\\delta[k]$\n",
    " - Der Einheitsimpuls ist definiert durch  \n",
    "$$\n",
    "\\displaystyle x[k] = \\delta[k] = \\begin{cases}\n",
    " 1 & \\text{wenn $k = 0$} \\\\ \n",
    " 0 & \\text{sonst} \n",
    " \\end{cases}\n",
    "$$ "
   ]
  },
  {
   "cell_type": "markdown",
   "metadata": {},
   "source": [
    " - Durch einsetzen in die Definitionsgleichung erhält man \n",
    " $$X(z) = \\sum_{k=0}^\\infty \\delta[k] \\cdot z^{-k}$$      "
   ]
  },
  {
   "cell_type": "markdown",
   "metadata": {},
   "source": [
    " - Wegen der Ausblendungseigenschaft des Einheitsimpulses gilt \n",
    " $$X(z) = 1 \\cdot z^0 = 1$$  "
   ]
  },
  {
   "cell_type": "markdown",
   "metadata": {},
   "source": [
    " - Ist der Impuls im Zeitbereich um $k_0$ verschoben erhält man \n",
    " $$X(z) = \\sum_{k=0}^\\infty \\delta[k-k_0] \\cdot z^{-k}$$"
   ]
  },
  {
   "cell_type": "markdown",
   "metadata": {},
   "source": [
    " - Wegen der Ausblendungseigenschaft des Einheitsimpulses gilt \n",
    " $$X(z) = 1 \\cdot z^{-k_0} = z^{-k_0}\\textrm{  (1.2)}$$"
   ]
  },
  {
   "cell_type": "markdown",
   "metadata": {},
   "source": [
    "### Die Sprungfunktion $x[k] = \\sigma[k]$\n",
    "\n",
    " - Die Sprungfunktion ist definiert durch \n",
    "$$\n",
    "\\displaystyle x[k] = \\sigma[k] = \\begin{cases}\n",
    " 1 & \\text{wenn $k \\geq 0$} \\\\ \n",
    " 0 & \\text{sonst} \\\\ \n",
    " \\end{cases}\n",
    "$$"
   ]
  },
  {
   "cell_type": "markdown",
   "metadata": {},
   "source": [
    " - Durch einsetzen in die Definitionsgleichung erhält man \n",
    " $$X(z) = \\sum_{k=0}^\\infty \\sigma[k] \\cdot z^{-k}\\textrm{  (1.3.1)}$$ "
   ]
  },
  {
   "cell_type": "markdown",
   "metadata": {},
   "source": [
    " - Da alle $x[k] = 1$ für $k \\geq 0$, lässt sich 1.3.1 umformen zu \n",
    " $$X(z) = \\sum_{k=0}^\\infty 1 \\cdot z^{-k} = \\sum_{k=0}^\\infty (\\frac{1}{z})^k \\textrm{  (1.3.2)}$$"
   ]
  },
  {
   "cell_type": "markdown",
   "metadata": {},
   "source": [
    " - Die Gleichung 1.3.2 ist eine unendlich geometrische Reihe. Für diese gilt \n",
    " $$\\sum_{k=0}^\\infty q^k = \\frac{1}{1-q} \\textrm{  (1.3.3)}$$"
   ]
  },
  {
   "cell_type": "markdown",
   "metadata": {},
   "source": [
    " - Mit der Gleichung 1.3.3 ergibt sich für die Gleichung 1.3.2\n",
    "$$\\sum_{k=0}^\\infty (\\frac{1}{z})^k = \\frac{1}{1-\\frac{1}{z}} \\textrm{  (1.3)}$$"
   ]
  },
  {
   "cell_type": "markdown",
   "metadata": {},
   "source": [
    "### Das Rechtecksignal $x[k] = \\sigma[k] - \\sigma[k-K]$\n",
    " - Das Rechtecksignal ist definiert durch  \n",
    "$$\n",
    "\\displaystyle x[k] = \\sigma[k] - \\sigma[k-K] = \\begin{cases}\n",
    " 0 & \\text{wenn $k \\lt 0$} \\\\\n",
    " 1 & \\text{wenn $0 \\lt k \\lt K$} \\\\ \n",
    " 0 & \\text{wenn $k \\gt K$}\n",
    "\\end{cases}\n",
    "$$    "
   ]
  },
  {
   "cell_type": "markdown",
   "metadata": {},
   "source": [
    " - Durch Einsetzen in die Definitionsgleichung erhält man \n",
    " $$X(z) = \\sum_{k=0}^\\infty (\\sigma[k] - \\sigma[k-K]) \\cdot z^{-k}$$"
   ]
  },
  {
   "cell_type": "markdown",
   "metadata": {},
   "source": [
    " - Wegen der Definition des Rechtecksignals gilt \n",
    " $$X(z) = \\sum_{k=0}^K (\\sigma[k] - \\sigma[k-K]) \\cdot z^{-k}$$"
   ]
  },
  {
   "cell_type": "markdown",
   "metadata": {},
   "source": [
    " - Da alle $x[k] = 1$ für $0 <= k <= K$, lässt sich die Gleichung umformen \n",
    " $$X(z) = \\sum_{k=0}^K 1 \\cdot z^{-k} = \\sum_{k=0}^K z^{-k} = \\sum_{k=0}^K \\frac{1}{z^{-k}}\\textrm{  (1.4.1)}$$"
   ]
  },
  {
   "cell_type": "markdown",
   "metadata": {},
   "source": [
    " - Diese Summe in 1.4.1 ist eine endliche geometrische Reihe, für diese gilt \n",
    " $$\\sum_{k=0}^{K-1} q^k = \\frac{1-q^K}{1-q}\\textrm{  (1.4.2)}$$"
   ]
  },
  {
   "cell_type": "markdown",
   "metadata": {},
   "source": [
    " -  Mit der Gleichung 1.4.2 ergibt sich für die Gleichung 1.4.1 \n",
    " $$\\sum_{k=0}^K \\frac{1}{z^{-k}} = \\sum_{k=0}^{K-1} = \\frac{1-z^{-K}}{1-z^{-1}}$$"
   ]
  },
  {
   "cell_type": "markdown",
   "metadata": {
    "slideshow": {
     "slide_type": "subslide"
    }
   },
   "source": [
    " - Damit ergibt sich \n",
    " $$X(z) = \\sum_{k=0}^\\infty (\\sigma[k] - \\sigma[k-K]) \\cdot z^{-k} = \\frac{1-z^{-K}}{1-z^{-1}} \\textrm{  (1.4)}$$"
   ]
  },
  {
   "cell_type": "markdown",
   "metadata": {},
   "source": [
    "### Beispiel\n",
    "\n",
    "- gegeben sei die Impulsantwort eines Systems $h[k] = \\delta[k] + 2 \\cdot \\delta[k-1] + \\delta[k-2]$ "
   ]
  },
  {
   "cell_type": "markdown",
   "metadata": {},
   "source": [
    "- Das Signal $h[k]$ kann tabellarisch daargestellt werden\n",
    "\n",
    "n        | -1 | 0 | 1 | 2 | 3\n",
    "---------|----|---|---|---|---\n",
    "$x[n]$   | 0  | 1 | 1 | 1 | 0"
   ]
  },
  {
   "cell_type": "markdown",
   "metadata": {},
   "source": [
    "- Mit den Gleichungen 1.7 und 1.9 kann dann die Z-Transformierte bestimmt werden"
   ]
  },
  {
   "cell_type": "markdown",
   "metadata": {},
   "source": [
    "- $H(z) = \\sum_{n=-1}^{3} h[n] * z^{-n} = z^0 + 2 \\cdot z^{-1} + z^{-2} = 1 + \\frac{2}{z} + \\frac{1}{z^2} = \\frac{z^2 + 2z + 1}{z^2}$"
   ]
  },
  {
   "cell_type": "markdown",
   "metadata": {},
   "source": [
    "## Existenz der Z-Transformierten\n",
    "- Da bei der Z-Transformation unendliche Reihen ausgewertet werden, muss sichergestellt werden, dass $X(z) = \\sum_{k=-\\infty}^\\infty x[k] \\cdot z^{-k} \\lt \\infty$. Trifft dies zu konvergiert die Folge\n",
    "\n",
    "- Ist die Konvergenz nachgewießen steht fest, dass die Z-Transformierte existiert.\n",
    "\n",
    "- Divergiert die unendliche Reihe ist das Signal nicht Z-transformierbar"
   ]
  },
  {
   "cell_type": "markdown",
   "metadata": {},
   "source": [
    "### Einseitige Z-Transformation\n",
    "- Bei der einseitigen Z-Transformation wird gibt es nur einen kausalen Signalanteil damit wird die Bedingung zu $X(z) = \\sum_{k=0}^\\infty x[k] \\cdot z^{-k} < \\infty$ abgeschwächt. \n",
    "\n",
    "- Für den Nachweis kann das Majorantenkriterium verwendet werden."
   ]
  },
  {
   "cell_type": "markdown",
   "metadata": {},
   "source": [
    "- Sei $\\sum_{k=1}^\\infty a_k$ eine Reihe. Wenn es eine konvergente Reihe $\\sum_{k=1}^\\infty c_k$ mit $\\big|a_k\\big| \\leqslant c_k$ für alle $k \\in \\mathrm{N}$ gibt, dann konvergiert $\\sum_{k=1}^\\infty a_k$ absolut."
   ]
  },
  {
   "cell_type": "markdown",
   "metadata": {},
   "source": [
    "- Wählt man als Folge $a_k = k[n]$ und $c_k = M \\cdot r^k$, wobei $M \\cdot r^k$ eine Exponentialfolge ist mit $r, M \\in \\mathrm{R}$ und $r \\geq 0$, gilt $\\big|k[n]\\big| \\leqslant M \\cdot r^k$"
   ]
  },
  {
   "cell_type": "markdown",
   "metadata": {},
   "source": [
    "- Dies führt eingesetzt in die Gleichung 1.1 zu \n",
    "$$X(z) = \\sum_{k=0}^\\infty x[k] \\cdot z^{-k} \\leqslant \\big| \\sum_{k=0}^\\infty x[k] \\cdot z^{-k} \\big| \\leqslant \\sum_{k=0}^\\infty M \\cdot r^k \\cdot \\big| z^{-k} \\big| = M \\sum_{k=0}^\\infty r^k \\cdot \\big| z^{-k} \\big| =  M \\sum_{k=0}^\\infty \\frac {r^k}  {|z^{k}|} = M \\sum_{k=0}^\\infty (\\frac {r}  {|z|})^k$$"
   ]
  },
  {
   "cell_type": "markdown",
   "metadata": {},
   "source": [
    "- und da $r \\geq 0$ gilt \n",
    "$$M \\sum_{k=0}^\\infty (\\frac {r}  {|z|})^k = M \\sum_{k=0}^\\infty \\big|\\frac {r}  {z}\\big|^k$$"
   ]
  },
  {
   "cell_type": "markdown",
   "metadata": {},
   "source": [
    "- Das bedeuted die Z-Transformierte existiert $\\iff$ $M \\sum_{k=0}^\\infty \\big|\\frac {r}  {z}\\big|^k$ konvergiert."
   ]
  },
  {
   "cell_type": "markdown",
   "metadata": {},
   "source": [
    "- Die Konvergenz für $M \\sum_{k=0}^\\infty \\big|\\frac {r}  {z}\\big|^k$ ist gegeben wenn $\\big| \\frac{r}{z} \\big| \\leq 1$ oder anders formuliert $| z | \\geq r$.\n",
    "\n"
   ]
  },
  {
   "cell_type": "markdown",
   "metadata": {},
   "source": [
    "- Der Bereich in dem die Folge konvergiert wird Konvergenzbereich $\\mathcal{K}$ genannt, wobei in diesem Fall $\\mathcal{K} \\in [r,\\infty]$"
   ]
  },
  {
   "cell_type": "markdown",
   "metadata": {},
   "source": [
    "### Zweiseitige Z-Transformation\n",
    "- In der Zweiseitigen Z-Transformation existiert die Z-Transformierte $\\iff \\sum_{k=-\\infty}^\\infty \\big|x[k]\\cdot z^{-k}\\big| \\lt \\infty$ ."
   ]
  },
  {
   "cell_type": "markdown",
   "metadata": {},
   "source": [
    "- Die Summe lässt sich aufteilen in einen kausalen $\\sum_{k=0}^\\infty x[k]\\cdot z^{-k}$ und einen antikausalen $\\sum_{k=1}^\\infty x[-k]\\cdot z^{k}$ Signalanteil \n",
    "$$X(z) = \\sum_{k=0}^\\infty x[k]\\cdot z^{-k} +  \\sum_{k=1}^\\infty x[-k]\\cdot z^{k} $$"
   ]
  },
  {
   "cell_type": "markdown",
   "metadata": {},
   "source": [
    "- Womit sich dann ein Konvergenzbereich $\\mathcal{K}$ von $0 \\lt a \\lt |z| \\lt b$. Dabei ist $a$ der Konvergenzradius des kausalen Anteils und $b$ der Konvergenzradius des antikausalen Anteils"
   ]
  },
  {
   "cell_type": "markdown",
   "metadata": {},
   "source": [
    "![Konvergenzbereich](Konvergenzbereich.svg)\n",
    "\n",
    "- Allgemein lässt sich sagen, dass die Z-Transformierte von zeitbegrenzten Signalen keine Konvergenzprobleme aufweisst."
   ]
  },
  {
   "cell_type": "markdown",
   "metadata": {},
   "source": [
    "# Rechenregeln\n",
    "## Linearität\n",
    "- Die Z-Transformation ist genau wie die Fourier-Transformation und die Laplace-Transformation eine lineare Transformation\n",
    "\n",
    "- $x_1[k]$ und $x_2[k]$ seien zwei diskrete Folgen. Durch Einsetzen in die Definitionsgleichung erhält man \n",
    "\n",
    "$$\\mathcal{Z}\\{\\alpha_1 \\cdot x_1[k] + \\alpha_2 \\cdot x_2[k]\\} =  \\sum_{k=0}^\\infty (\\alpha_1 \\cdot x_1[k] + \\alpha_2 \\cdot x_2[k]) \\cdot z^{-k}$$"
   ]
  },
  {
   "cell_type": "markdown",
   "metadata": {},
   "source": [
    "- Die Summe kann aufgeteilt werden in \n",
    "$$\\sum_{k=0}^\\infty \\alpha_1 \\cdot x_1[k] \\cdot z^{-k} + \\sum_{k=0}^\\infty \\alpha_2 \\cdot x_2[k] \\cdot z^{-k}$$"
   ]
  },
  {
   "cell_type": "markdown",
   "metadata": {},
   "source": [
    "- Die Konstanten Faktoren $\\alpha_1$ und $\\alpha_2$ können aus der Summe gezogen werden \n",
    "$$\\alpha_1 \\sum_{k=0}^\\infty \\cdot x_1[k] \\cdot z^{-k} + \\alpha_2 \\sum_{k=0}^\\infty \\cdot x_2[k] \\cdot z^{-k}$$"
   ]
  },
  {
   "cell_type": "markdown",
   "metadata": {},
   "source": [
    "- Die einzelnen Summen können dann durch Gleichung 1.1 ersetzt werden\n",
    "$$\\alpha_1 \\cdot X_1(z) + \\alpha_2 \\cdot X_2(z)$$"
   ]
  },
  {
   "cell_type": "markdown",
   "metadata": {},
   "source": [
    "- Damit gilt \n",
    "$$\\mathcal{Z}\\{\\alpha_1 \\cdot x_1[k] + \\alpha_2 \\cdot x_2[k]\\} = \\alpha_1 \\cdot X_1(z) + \\alpha_2 \\cdot X_2(z)\\textrm{  (2.1)}$$"
   ]
  },
  {
   "cell_type": "markdown",
   "metadata": {},
   "source": [
    "## Zeitinvarianz / Verschiebungssatz\n",
    "- Es sei $x[k]$ eine kausale und diskrete Folge\n",
    "\n",
    "- Bei der verschiebung im Zeitbereich ändert sich bei einer zweiseitigen Z-Transformation der Konvergenzbereich $\\mathcal{K}$ nicht. Bei einer einseitigen Z-Transformation werden Glieder aus dem nicht kausalen Bereich eingeschoben, bzw. aus dem kausalen Bereich rausgeschoben. .....\n",
    "#### UNFIN"
   ]
  },
  {
   "cell_type": "markdown",
   "metadata": {},
   "source": [
    "### Rechtsverschiebung\n",
    "\n",
    "- Durch Einsetzen in die Definitionsgleichung erhält man \n",
    "$$\\mathcal{Z}\\{x[k-k_0]\\} = \\sum_{k=0}^\\infty x[k-k_0] \\cdot z^{-k}$$"
   ]
  },
  {
   "cell_type": "markdown",
   "metadata": {},
   "source": [
    "- Da das Signal Kausal ist, gilt für $k \\lt k_0$ $x[k-k_0] = 0$. Damit lässt sich die untere Summationsgrenze mit $k=k_0$ ersetzen \n",
    "$$\\sum_{k=k_0}^\\infty x[k-k_0] \\cdot z^{-k} = \\sum_{k=0}^\\infty x[k] \\cdot z^{-(k+k_0)}$$"
   ]
  },
  {
   "cell_type": "markdown",
   "metadata": {},
   "source": [
    "- Damit lässt sich $z^{-(k+k_0)}$ in eine Konstante und eine variable aufspalten \n",
    "$$\\sum_{k=0}^\\infty x[k] \\cdot z^{-k} \\cdot z^{-k_0}$$"
   ]
  },
  {
   "cell_type": "markdown",
   "metadata": {},
   "source": [
    "- Die Konsante kann dann mit den Summenregeln vor die Summe gezogen werden \n",
    "$$z^{-k_0} \\cdot \\sum_{k=0}^\\infty x[k] \\cdot z^{-k}$$"
   ]
  },
  {
   "cell_type": "markdown",
   "metadata": {},
   "source": [
    "- Dadurch kann die Summe durch die Gleichung 1.1 ersetzt werden $z^{-k_0} \\cdot X(z)$\n",
    "\n",
    "- Damit gilt \n",
    "$$\\mathcal{Z}\\{x[k-k_0]\\} = z^{-k_0} \\cdot X(z)\\textrm{  (2.2)}$$"
   ]
  },
  {
   "cell_type": "markdown",
   "metadata": {
    "slideshow": {
     "slide_type": "subslide"
    }
   },
   "source": [
    "### Linksverschiebung\n",
    "\n",
    "- Die linksverschiebung lässt sich ähnlich wie die Rechtsverschiebung herleiten\n",
    "\n",
    "- Damit gilt \n",
    "$$\\mathcal{Z}\\{x[k+k_0]\\} = z^{k_0} \\cdot X(z) - z^{k_0} \\cdot \\sum_{k=0}^{K_0-1}x[k] \\cdot z^{-k} = z^{k_0} \\cdot (X(z) - \\sum_{k=0}^{K_0-1}x[k] \\cdot z^{-k})\\textrm{  (2.3)}$$"
   ]
  },
  {
   "cell_type": "markdown",
   "metadata": {},
   "source": [
    "## Differenz (Ableitung im Zeitbereich)\n",
    "- Die erste Differenz eines Signals ist gegeben mit $x[k] - x[k-1]$.\n",
    "\n",
    "- Eingesetzt in die Transformationsgleichung $\\mathcal{Z}\\{x[k] - x[k-1]\\}$ lässt sich die Differenz direkt durch den Linearitätssatz und den Verschiebungssatz herleiten. "
   ]
  },
  {
   "cell_type": "markdown",
   "metadata": {},
   "source": [
    "- Mit dem Linearitätssatz ergibt sich \n",
    "$$\\mathcal{Z}\\{x[k] - x[k-1]\\} = \\mathcal{Z}\\{x[k]\\} - \\mathcal{Z}\\{x[k-1]\\}$$"
   ]
  },
  {
   "cell_type": "markdown",
   "metadata": {},
   "source": [
    "- Mit dem Verschiebungssatz ergibt sich \n",
    "$$\\mathcal{Z}\\{x[k]\\} - \\mathcal{Z}\\{x[k-1]\\} = z^0 \\cdot X(z) - z^{-1} \\cdot X(z) = (1-z^{-1}) \\cdot X(z) = \\frac{z-1}{z} \\cdot X(z)$$"
   ]
  },
  {
   "cell_type": "markdown",
   "metadata": {},
   "source": [
    "- Damit gilt \n",
    "$$\\mathcal{Z}\\{x[k] - x[k-1]\\} = \\frac{z-1}{z} \\cdot X(z)\\textrm{  (2.4)}$$"
   ]
  },
  {
   "cell_type": "markdown",
   "metadata": {},
   "source": [
    "- Bei der diskreten Ableitung bleibt der Konvergenzbereich $\\mathcal{K}$ unverändert."
   ]
  },
  {
   "cell_type": "markdown",
   "metadata": {},
   "source": [
    "## Summation (Integration)\n",
    "- Die Summation über einen gewissen Bereich einer Folge $x[k]$ wird beschrieben durch $x[k] = \\sum_{i=0}^k x[i] - \\sum_{i=0}^{k-1} x[i]$\n"
   ]
  },
  {
   "cell_type": "markdown",
   "metadata": {},
   "source": [
    "- Eingesetzt in die Transformationsgleichung $\\mathcal{Z}\\{x[k]\\} = \\mathcal{Z} \\{\\sum_{i=0}^k x[i] - \\sum_{i=0}^{k-1} x[i]\\}$ lässt sich die Summation mit dem Differenzsatz 2.4 herleiten"
   ]
  },
  {
   "cell_type": "markdown",
   "metadata": {},
   "source": [
    "- Mit dem Differenzsatz ergibt sich \n",
    "$$X(z) = \\mathcal{Z} \\{\\sum_{i=0}^k x[i] - \\sum_{i=0}^{k-1} x[i]\\} = \\frac{z-1}{z} \\cdot \\mathcal{Z}\\big( \\sum_{i=0}^k x[i] \\big)$$"
   ]
  },
  {
   "cell_type": "markdown",
   "metadata": {},
   "source": [
    "- Damit gilt \n",
    "$$\\mathcal{Z}\\big( \\sum_{i=0}^k x[i] \\big) = \\frac{z-1}{z} \\cdot X(z)\\textrm{  (2.5)}$$"
   ]
  },
  {
   "cell_type": "markdown",
   "metadata": {},
   "source": [
    "- Bei der diskreten Integration ergibt sich der neue Konvergenzbereich aus einer Teilmenge des alten Konvergenzbereichs und demm Bereich ${|z| \\gt 1}$. \n",
    "$$\\mathcal{K} \\supseteq \\mathcal{K}_x \\cap {|z| \\gt 1}$$"
   ]
  },
  {
   "cell_type": "markdown",
   "metadata": {},
   "source": [
    "## Faltung\n",
    "- Die Faltung zweier diskreter Signale ist definiert durch $y = x_1 * x_2 = \\sum_{k=-\\infty}^\\infty x_1[k] \\cdot x_2[n-k]$\n",
    "\n",
    "- Da die Z-Transformation für Kausale Systeme betrachtet wird gilt $x[k] = 0$ für $k \\lt 0$"
   ]
  },
  {
   "cell_type": "markdown",
   "metadata": {},
   "source": [
    "- Damit ergibt sich für die Z-Transformation \n",
    "$$\\mathcal{Z} \\{x_1[k] * x_2[k]\\} = \\mathcal{Z} \\{\\sum_{k=0}^\\infty x_1[k] \\cdot x_2[n-k]\\}$$"
   ]
  },
  {
   "cell_type": "markdown",
   "metadata": {},
   "source": [
    "- Eingesetzt in die Definitionsgleichung 1.1 ergibt sich \n",
    "$$\\sum_{k=0}^\\infty \\sum_{i=0}^\\infty x_1[i] \\cdot x_2[k-i] \\cdot z^{-k}$$"
   ]
  },
  {
   "cell_type": "markdown",
   "metadata": {},
   "source": [
    "- Vertauschung der Summationsreihenfolge \n",
    "$$\\sum_{i=0}^\\infty \\sum_{k=0}^\\infty x_1[i] \\cdot x_2[k-i] \\cdot z^{-k}$$"
   ]
  },
  {
   "cell_type": "markdown",
   "metadata": {},
   "source": [
    "- Damit ist $x_1[i]$ für die innere Summe eine Konstante, damit gilt \n",
    "$$\\sum_{i=0}^\\infty x_1[i] \\cdot \\sum_{k=0}^\\infty x_2[k-i] \\cdot z^{-k}$$"
   ]
  },
  {
   "cell_type": "markdown",
   "metadata": {},
   "source": [
    "- Durch das Erweitern der inneren Summe mit $z^{-i} \\cdot z^{i} = 1$ ergibt sich \n",
    "$$\\sum_{i=0}^\\infty x_1[i] \\cdot \\sum_{k=0}^\\infty x_2[k-i] \\cdot z^{-k} \\cdot z^{-i} \\cdot z^{i}$$"
   ]
  },
  {
   "cell_type": "markdown",
   "metadata": {},
   "source": [
    "- $z^{-i} \\cdot z^{i}$ sind dabei für die innere Summe konstanten. Zieht man $z^{-i}$ in die äußere Summe ergibt sich \n",
    "$$\\sum_{i=0}^\\infty x_1[i] \\cdot z^{-i} \\cdot \\sum_{k=0}^\\infty x_2[k-i] \\cdot z^{-k} \\cdot z^{i} = \\sum_{i=0}^\\infty x_1[i] \\cdot z^{-i} \\cdot \\sum_{k=0}^\\infty x_2[k-i] \\cdot z^{-(k - i)}$$"
   ]
  },
  {
   "cell_type": "markdown",
   "metadata": {},
   "source": [
    "- Substituiert man dann mit $k-i = n$ ergibt sich \n",
    "$$\\sum_{i=0}^\\infty x_1[i] \\cdot z^{-i} \\cdot \\sum_{n=0}^\\infty x_2[n] \\cdot z^{-n} = X_1(z) \\cdot X_2(z)$$"
   ]
  },
  {
   "cell_type": "markdown",
   "metadata": {},
   "source": [
    "- Damit gilt \n",
    "$$\\mathcal{Z} \\{x_1[k] * x_2[k]\\} = X_1(z) \\cdot X_2(z)\\textrm{  (2.6)}$$"
   ]
  },
  {
   "cell_type": "markdown",
   "metadata": {
    "slideshow": {
     "slide_type": "subslide"
    }
   },
   "source": [
    "- Bei der Faltung ergibt sich der neue Konvergenzbereich aus der Schnittmenge der beiden einzelnen Konvergenzbereiche $\\mathcal{K} = \\mathcal{K}_x \\cap \\mathcal{K}_y$"
   ]
  },
  {
   "cell_type": "markdown",
   "metadata": {},
   "source": [
    "### Beispiel\n",
    "- gegeben seien zwei Signale $x_1[k] = \\sigma[k]$ und $x_2[k] = h[k]$.\n",
    "\n",
    "- Die Faltung der Signale ergibt die Sprungantwort des Systems\n",
    "\n",
    "- Faltet man die Signale im Zeitbereich resultiert dies in einer Summe $a[k] = x_1[k] * x_2[k] = \\sum_{i=-\\infty}^{\\infty} x_1[i] \\cdot x_2[k-i]$\n",
    "\n",
    "- Transformiert man die Signale aber zuerst in den Zeitbereich resultiert die Faltung in einer Multiplikation (siehe 2.6).\n",
    "\n",
    "- $A(z) = \\mathcal{Z} \\{x_1[k] * x_2[k]\\} = X_1(z) \\cdot X_2(z)$\n",
    "\n",
    "- $A(z)$ muss noch für die endgültige Lösung Rücktransformiert werden.\n",
    "\n",
    "- Mit dieser Anwendung wird auch die Reihenschaltung von Systemen vereinfacht"
   ]
  },
  {
   "cell_type": "markdown",
   "metadata": {},
   "source": [
    "## weitere Regeln\n",
    "- Dämpfungssatz: $$a^{-k} \\cdot x[k] \\circ \\!\\!-\\!\\!\\bullet X(a \\cdot z)$$ Der Konvergenzradius $r$ ändert sich um Faktor $|a|$, womit sich der Konvergenzbereich $\\mathcal{K}$ vergrößert."
   ]
  },
  {
   "cell_type": "markdown",
   "metadata": {},
   "source": [
    "- Ableitung der Bildfunktion: $$k \\cdot x[k] \\circ \\!\\!-\\!\\!\\bullet -z \\frac{dF(z)}{dz}$$ Der Konvergenzbereich $\\mathcal{K}$ bleibt unverändert."
   ]
  },
  {
   "cell_type": "markdown",
   "metadata": {},
   "source": [
    "- Zeitinversion (nur in der Zweiseitigen Z-Transformation): $$x[-k] \\circ \\!\\!-\\!\\!\\bullet X(\\frac{1}{z})$$ Der Konvergenzbereich wird invertiert $\\mathcal{K} = \\frac{1}.{\\mathcal{K_x}}$\n"
   ]
  },
  {
   "cell_type": "markdown",
   "metadata": {},
   "source": [
    "- Konjugiert komplexe Zeitfolge: $$x^{*}[k] \\circ \\!\\!-\\!\\!\\bullet X^{*}(z^{*})$$ Der Konvergenzradius $\\mathcal{K}$ bleibt unverändert."
   ]
  },
  {
   "cell_type": "markdown",
   "metadata": {},
   "source": [
    "- Multiplikationssatz: $$w_k \\circ \\!\\!-\\!\\!\\bullet \\sum_{k=0}^K u_{K-k} \\cdot v_k = \\sum_{k=0}^K u_{k} \\cdot v_{k-n}$$"
   ]
  },
  {
   "cell_type": "markdown",
   "metadata": {},
   "source": [
    "- 1.Grenzwertsatz: $$x[k] = \\lim_{z\\to\\infty} z^k \\cdot (X(z) - \\sum_{k=0}^{K-1} z^{-k} \\cdot x[k]) \\textrm{ und } x[k] = \\lim_{z\\to\\infty} X(z)$$\n",
    "\n",
    "- 2.Grenzwertsatz: $$\\lim_{k\\to\\infty} x[k] = \\lim_{z\\to 1} (z-1)\\cdot X(z)$$"
   ]
  },
  {
   "cell_type": "markdown",
   "metadata": {},
   "source": [
    "- Upsampling (Einfügen von nullen): $$x[\\frac{k}{N}], \\frac{k}{N} \\in\\mathrm{Z} \\circ \\!\\!-\\!\\!\\bullet X(Z^N)$$\n",
    "Der neue Konvergenzbereich ist Teilmenge der n-ten Wurzel des alten Konvergenzbereiches, $\\mathcal{K} \\supseteq \\sqrt[N]{\\mathcal{K}_x}$."
   ]
  },
  {
   "cell_type": "markdown",
   "metadata": {},
   "source": [
    "- Stabilität: Für alle Polstellen gilt $|z| < 1$ -> asymptotische Stabilität"
   ]
  },
  {
   "cell_type": "markdown",
   "metadata": {},
   "source": [
    "### Beispiel\n",
    "- Gegeben sei die Übertragungsfunktion aus dem ersten Beispiel $H(z) = \\frac{z^2 + 2z + 1}{z^2}$\n",
    "\n",
    "- Da das System ein FIR-System ist liegt nahe, dass das System stabil ist.\n",
    "\n",
    "- Ist das System $H(z)$ wirklich stabil? \n",
    "\n",
    "- Ob das system Stabil ist kann einfach über den Pol-/ und Nullstellenplan bestimmt werden\n",
    "\n",
    "- Für die Nullstellen gilt: $z^2 + 2z + 1 = 0$\n",
    "    * $z_{0,1} = z_{0,2} = -1$\n",
    "\n",
    "- Für die Polstellen gilt $z^2 = 0$\n",
    "    * $z_{\\infty,1} = z_{\\infty,2} = 0$\n",
    "    \n",
    "- Da für alle Polstellen $|z_{\\infty,i}| < 1$ erfüllt ist, ist $H(z)$ stabil."
   ]
  },
  {
   "cell_type": "markdown",
   "metadata": {
    "slideshow": {
     "slide_type": "subslide"
    }
   },
   "source": [
    "## Korespondenztabelle für die Z-Transformation\n",
    "  Nr  | Signal $x[k]$                        | Z-Transformierte $X(z)$                                                         \n",
    "------|--------------------------------------|--------------------------------------------------------------------------------\n",
    "  1   | $\\delta[k]$                          | $1$                                                                             \n",
    "  2   | $\\sigma[k]$                          | $\\frac{z}{z-1}$                                                                 \n",
    "  3   | $k \\cdot \\sigma[k]$                  | $\\frac{z}{(z-1)^2}$                                                            \n",
    "  4   | $k^2 \\cdot \\sigma[k]$                | $\\frac{z\\cdot(z+1)}{(z-1)^{-3}}$                                               \n",
    "  5   | $\\lambda^k \\cdot \\sigma[k]$          | $\\frac{z}{z-\\lambda}$                                                           \n",
    "  6   | $k\\cdot\\lambda^k\\cdot\\sigma[k]$      | $\\frac{z\\cdot\\lambda}{(z-\\lambda)^2}$                                           \n",
    "  7   | $k^2\\cdot\\lambda^k\\cdot\\sigma[k]$    | $\\frac{z\\cdot\\lambda\\cdot(z+\\lambda)}{(z-\\lambda)^3}$                           \n",
    "  8   | $k^3\\cdot\\lambda^k\\cdot\\sigma[k]$    | $\\frac{z\\cdot\\lambda\\cdot(z^2+4\\cdot\\lambda\\cdot z+ \\lambda^2)}{(z-\\lambda)^4}$ \n",
    "  9   | $\\sin (k\\cdot\\Omega_0)\\cdot\\sigma[k]$|$\\frac{z\\cdot\\sin(\\Omega_0)}{z^2-2\\cdot z\\cdot\\cos(\\Omega_0)+1}$                 \n",
    "  10  | $\\cos (k\\cdot\\Omega_0)\\cdot\\sigma[k]$|$\\frac{z\\cdot\\cos(\\Omega_0)}{z^2-2\\cdot z\\cdot\\cos(\\Omega_0)+1}$                 "
   ]
  },
  {
   "cell_type": "markdown",
   "metadata": {},
   "source": [
    "* Der Konvergenzbereich genügt der bedingung $|z| \\geq 1$ bzw. $|z| \\geq \\lambda$ mit $z, \\lambda\\in \\mathcal{C}$ "
   ]
  },
  {
   "cell_type": "markdown",
   "metadata": {},
   "source": [
    "# Rücktransformation / inverse Z-Transformation\n",
    "- Die inverse Z-Transformation ist gegebeben mit $x[k] = \\mathcal{Z}^{-1} \\cdot X(z)$"
   ]
  },
  {
   "cell_type": "markdown",
   "metadata": {},
   "source": [
    "- Die Integraldarstellung hat die Form \n",
    "$$x[k] = \\big( \\frac{1}{2\\pi j} \\big) \\cdot \\oint X(z) \\cdot z^{k-1}\\,dz$$"
   ]
  },
  {
   "cell_type": "markdown",
   "metadata": {},
   "source": [
    "- Meistens entsehen bei der Z-Transformation gebrochen Rationale Funktionen wie im 1. Beispiel\n",
    "\n",
    "- Deren Rücktransformation kann am einfachsten über die Partialbruchzerlegung durchgeführt werden. Diese Methode zerlegt eine komplizierte algebraische Funktion in elementare Terme. Diese elementaren Terme können dann einfach transformiert werden. Eine weitere Möglichkeit is es diese durch den Residuensatz durchzuführen.Eine ditte Möglichkeit der Rücktransformation ist das komplexe Umkehrintegral.\n",
    "\n",
    "\n",
    "- Die Rücktransformation wird nur für den praktisch relvanten Fall der kausalen Signale betrachtet."
   ]
  },
  {
   "cell_type": "markdown",
   "metadata": {},
   "source": [
    "## inverse Z-Transformation über Partialbruchzerlegung\n",
    "\n",
    "- gegeben sind zwei Ganz Rationale Funktinen $A(z)$ und $B(z)$."
   ]
  },
  {
   "cell_type": "markdown",
   "metadata": {},
   "source": [
    "- Gesucht ist X(z)$ \\bullet \\!\\!-\\!\\!\\circ x[k]$\n",
    "$$X(z) = \\frac{B(z)}{A(z)} = \\frac {\\sum_{i=0}^M b_i \\cdot z^{i}} {\\sum_{i=0}^N a_i \\cdot z^{i}} = \\frac{b_0 + b_1 \\cdot z^1 + ... + b_M \\cdot z^N}{a_0 + a_1 \\cdot z^1 + ... + a_N \\cdot z^N}$$"
   ]
  },
  {
   "cell_type": "markdown",
   "metadata": {},
   "source": [
    "- Für die Partialbruchzerlegung muss der Grad des Nennerpolynoms größer als der Grad des Zählerpolynoms sein.\n",
    "\n",
    "- Da es Sich bei $A(z)$ und $B(z)$ jeweils um Kausale Signale handelt ist der Grad von $A(z)$ maximal so groß wie der Grad $B(z)$. \n",
    "\n",
    "- Tritt der Fall ein, das $M = N$ muss vor der Partialbruchzerlegung eine Polynomdivision durchgeführt werden.\n",
    "\n",
    "- Als Ergebnis dieser Polynomdivision ist ein konstanter Summand $X_0 = \\frac{b_M}{a_N}$. \n",
    "\n",
    "- Ist $X(z)$ dann eine echt gebrochen Rationale Funktion werden die Pole bestimmt. Diese entsprechen den Nullstellen der Funtion $A(z)$.\n",
    "\n",
    "- Je nach Vielfachheit der Polstelle werden dann verschiedene Ansätze für den Koeffizientenvergleich gewählt  "
   ]
  },
  {
   "cell_type": "markdown",
   "metadata": {},
   "source": [
    "### einfacher Pol an $z \\neq 0$\n",
    "\n",
    "$$ X(z) = \\frac{B(z)}{A(z)} = \\frac{A}{z-\\alpha_1} + \\frac{B}{z-\\alpha_2} + ... + \\frac{Q}{z-\\alpha_n}$$"
   ]
  },
  {
   "cell_type": "markdown",
   "metadata": {},
   "source": [
    "* Multiplikation mit $A(z)$ um die Gleichung auf den Haupnenner $A(z)$ zu bringen.\n",
    "        \n",
    "  $$ B(z) = \\frac{A\\cdot A(z)}{z-\\alpha_1} + \\frac{B\\cdot A(z)}{z-\\alpha_2} + ... + \\frac{Q\\cdot A(z)}{z-\\alpha_n}$$"
   ]
  },
  {
   "cell_type": "markdown",
   "metadata": {},
   "source": [
    "* Durch den Koeffizientenvergleich entsteht ein lineares Gleichungssystem\n",
    "$$\n",
    "    1   : \\textrm{ Summe aller von z unabhängigen Koeffizienten } = \\textrm{ Koeffizient vor 1}\n",
    "$$\n",
    "$$\n",
    "    z^1 : \\textrm{ Summe aller von z^1 abhängige Koeffizienten }  = \\textrm{ Koeffizient vor } z^1\n",
    "$$\n",
    "$$\n",
    "    ...\n",
    "$$\n",
    "$$\n",
    "    z^n : \\textrm{ Summe aller von z^n abhängige Koeffizienten }  = \\textrm{ Koeffizient vor } z^n\n",
    "$$"
   ]
  },
  {
   "cell_type": "markdown",
   "metadata": {},
   "source": [
    "* Aus diesen Gleichungen kann ein LGS Aufgestellt werden um alle $C_i$ zu berrechnen."
   ]
  },
  {
   "cell_type": "markdown",
   "metadata": {},
   "source": [
    "* Anschließend hat jeder der partialbrüche die  Form $X_i(z) = \\frac{C_i}{z-\\alpha_i}$ mit $C_i = \\{A, B, ..., Q\\}$"
   ]
  },
  {
   "cell_type": "markdown",
   "metadata": {},
   "source": [
    "* Diese Partialbrücke können über die Korrespondenztabelle in eine um 1 nach rechts verschobene kausale Exponentialfolge überführt werden.\n",
    "        \n",
    "  $$X_i[k] = \\mathcal{Z}\\big\\{\\frac{C_i}{z-\\alpha_i}\\big\\} = C_i \\cdot \\alpha_i^{k-1} \\cdot \\sigma[k-1]$$"
   ]
  },
  {
   "cell_type": "markdown",
   "metadata": {},
   "source": [
    "* Summiert man alle $X_n[k]$ auf ergibt sich die Folge im Zeitbereich \n",
    "  $$x[k] = \\sum_{i=1}^N C_i \\cdot \\alpha_i^{k-1} \\cdot \\sigma[k-1]$$ "
   ]
  },
  {
   "cell_type": "markdown",
   "metadata": {},
   "source": [
    "### mehrfacher Pol an $z \\neq 0$\n",
    "\n",
    "$$ X(z) = \\frac{B(z)}{A(z)} = \\frac{A}{z-\\alpha_1} + \\frac{B}{z-\\alpha_1} + ... + \\frac{Q}{z-\\alpha_1}$$"
   ]
  },
  {
   "cell_type": "markdown",
   "metadata": {},
   "source": [
    "* Multiplikation mit $A(z)$ um die Gleichung auf den Haupnenner $A(z)$ zu bringen.\n",
    "        \n",
    "  $$ B(z) = \\frac{A\\cdot A(z)}{z-\\alpha_1} + \\frac{B\\cdot A(z)}{z-\\alpha_2} + ... + \\frac{Q\\cdot A(z)}{z-\\alpha_n}$$"
   ]
  },
  {
   "cell_type": "markdown",
   "metadata": {},
   "source": [
    "* Durch den Koeffizientenvergleich entsteht ein lineares Gleichungssystem\n",
    "$$\n",
    "    1   : \\textrm{ Summe aller von z unabhängigen Koeffizienten } = \\textrm{ Koeffizient vor 1}\n",
    "$$\n",
    "$$\n",
    "    z^1 : \\textrm{ Summe aller von z^1 abhängige Koeffizienten }  = \\textrm{ Koeffizient vor } z^1\n",
    "$$\n",
    "$$\n",
    "    ...\n",
    "$$\n",
    "$$\n",
    "    z^n : \\textrm{ Summe aller von z^n abhängige Koeffizienten }  = \\textrm{ Koeffizient vor } z^n\n",
    "$$"
   ]
  },
  {
   "cell_type": "markdown",
   "metadata": {},
   "source": [
    "* Anschließend hat jeder der partialbrüche die  Form $X_i(z) = \\frac{C_i}{z-\\alpha_1}$ mit $C_i = \\{A, B, ..., Q\\}$"
   ]
  },
  {
   "cell_type": "markdown",
   "metadata": {},
   "source": [
    "* Aus diesen Gleichungen kann ein LGS Aufgestellt werden um alle $C_i$ zu berrechnen."
   ]
  },
  {
   "cell_type": "markdown",
   "metadata": {},
   "source": [
    "* Diese Partialbrücke können über die Korrespondenztabelle überführt werden.\n",
    "        \n",
    "  $$X_i[k] = \\mathcal{Z}\\big\\{\\frac{C_i}{z-\\alpha}\\big\\} = C_i \\cdot \\binom{k-1}{i-1} \\cdot \\alpha^{k-i} \\cdot \\sigma[k-i]$$"
   ]
  },
  {
   "cell_type": "markdown",
   "metadata": {},
   "source": [
    "* Summiert man alle $X_i[k]$ auf ergibt sich für die Folge im Zeitbereich\n",
    "\n",
    "$$x[k] = \\sum_{i=1}^P C_i \\cdot \\binom{k-1}{i-1} \\cdot \\alpha^{k-i} \\cdot \\sigma[k-i]$$ \n",
    "\n",
    "* Dabei ist $P$ die Vielfachheit der Nullstellen"
   ]
  },
  {
   "cell_type": "markdown",
   "metadata": {},
   "source": [
    "### Sonderfall mehrfacher Pol an $z = 0$\n",
    "\n",
    "* Falls ein mehrfacher Pol an der stelle $z = 0$ auftritt muss Ein anderer Ansatz für die Partialbruchzerlegung und die Rücktransformation verwendet werden."
   ]
  },
  {
   "cell_type": "markdown",
   "metadata": {},
   "source": [
    "### Beispiel\n",
    "* Gegeben ist die Gleichung $X(z) = \\frac{z}{z^2 + 3 \\cdot z + 2} = \\frac{z}{(z+1) \\cdot (z+2)}$\n",
    "\n",
    "* Die zugehörigen Polstellen sind $\\alpha_0 = -1 ;\\alpha_1 = -2 $"
   ]
  },
  {
   "cell_type": "markdown",
   "metadata": {},
   "source": [
    "* Für den Koeffizientenvergleich ergibts sich wegen der einfachen Nullstellen mit $z \\neq 0$\n",
    " $$X(z) = \\frac{z}{(z+1) \\cdot (z+2)} = \\frac{A}{z+1} + \\frac{B}{z+2}$$"
   ]
  },
  {
   "cell_type": "markdown",
   "metadata": {},
   "source": [
    "* Durch multiplikation mit $(z+1) \\cdot (z+2)$ folgt\n",
    " $$ z = A \\cdot (z+2) + B \\cdot (z+1)$$"
   ]
  },
  {
   "cell_type": "markdown",
   "metadata": {},
   "source": [
    "* Mit dem Koeffizientenvergleich und dem Einsetzen der Nullstellen ergibt sich für die Konstanten $A = -1$ und $B = 2$."
   ]
  },
  {
   "cell_type": "markdown",
   "metadata": {},
   "source": [
    "* Damit ergeben sich die Partialbrüche\n",
    " $$ X_1(z) = \\frac{-1}{z+1} \\textrm{  und  } X_2(z) = \\frac{2}{z+2}$$\n",
    " $$ X(z) = \\frac{-1}{z+1} + \\frac{2}{z+2}$$"
   ]
  },
  {
   "cell_type": "markdown",
   "metadata": {},
   "source": [
    "* Transformiert man dann die Pratialbrüche über die Korrespondenztabelle ergibt sich\n",
    "$$x[k] = -1 \\cdot (-1)^{k-1} \\cdot \\sigma[k-1] + 2 \\cdot (-2)^{k-1} \\cdot \\sigma[k-1]$$"
   ]
  },
  {
   "cell_type": "code",
   "execution_count": 30,
   "metadata": {},
   "outputs": [
    {
     "data": {
      "image/png": "[encoded data removed]",
      "text/plain": [
       "<Figure size 432x288 with 1 Axes>"
      ]
     },
     "metadata": {},
     "output_type": "display_data"
    }
   ],
   "source": [
    "%matplotlib inline\n",
    "import matplotlib\n",
    "import numpy as np\n",
    "import matplotlib.pyplot as plt\n",
    "import math\n",
    "\n",
    "amount = 20\n",
    "k = np.linspace(-amount//2, amount//2, amount+1)\n",
    "k = np.int_(k)\n",
    "sigma = np.heaviside(k-1, 1)\n",
    "x = []\n",
    "for n in k:\n",
    "    tmp = (-1) * math.pow(-1,n-1) * np.heaviside(n-1, 1) + 2 * math.pow(-2,n-1)*np.heaviside(n-1, 1)\n",
    "    x.append(tmp)\n",
    "plt.stem(k,x)\n",
    "plt.grid(True)\n",
    "plt.xlabel('k')\n",
    "plt.ylabel('x[k]')\n",
    "plt.show()"
   ]
  },
  {
   "cell_type": "markdown",
   "metadata": {},
   "source": [
    "#### Daarstellung der Pol-/Nullstellen\n",
    "* Polstellen werden im Koordinatensystem als kreuze markiert, Nullstellen als Kreise.\n",
    "![Pol_Null_S](Pol_Null_S.svg)"
   ]
  },
  {
   "cell_type": "markdown",
   "metadata": {},
   "source": [
    "## Lösung einer Differenzengleichung\n",
    "- Gegeben ist eine Differenzengleichung der Form $\\sum_{i=0}^V a_i \\cdot y[k-i] = \\sum_{i=0}^U b_i \\cdot x[k-i]$"
   ]
  },
  {
   "cell_type": "markdown",
   "metadata": {},
   "source": [
    "### ohne Anfangsbedingungen\n",
    "- Diese Gleichung kann mit der Rechtsverschiebung (2.2) in eine Z-Transformierte Gleichung überführt werden.\n",
    "$$\\sum_{i=0}^V a_i \\cdot Y(z) \\cdot z^{-i} = \\sum_{i=0}^U b_i \\cdot X(z) \\cdot z^{-i}$$"
   ]
  },
  {
   "cell_type": "markdown",
   "metadata": {},
   "source": [
    "- Die Z-Transformierten $X(z)$ und $Y(z)$ können aus den Summen Ausgeklamert werden.\n",
    "$$Y(z) \\cdot \\sum_{i=0}^V a_i \\cdot z^{-i} = X(z) \\cdot \\sum_{i=0}^U b_i \\cdot z^{-i}$$"
   ]
  },
  {
   "cell_type": "markdown",
   "metadata": {},
   "source": [
    "- Anschließend kann die Gleichung nach der Z-Transformierten des Ausgangssignals aufgelöst werden.\n",
    "$$Y(z) = X(z) \\cdot \\frac{\\sum_{i=0}^U b_i \\cdot z^{-i}}{\\sum_{i=0}^V a_i \\cdot z^{-i}}$$"
   ]
  },
  {
   "cell_type": "markdown",
   "metadata": {},
   "source": [
    "- Die Ausgangsgleichung kann dann entweder über die inverse Z-Transformation mittels Residuensatz oder Partialbruchzerlegung in den Zeitbereich zurücktransformiert werden."
   ]
  },
  {
   "cell_type": "markdown",
   "metadata": {},
   "source": [
    "### mit Anfangsbedingungen\n",
    "- Existieren Anfangsbedingungen muss das System von diesen Anfangswerten aus betrachtet werden. Mit der gegebenen Zeitinvarianz des Systems kann dies durch eine einfache verschiebung nach links durchgeführt werden."
   ]
  },
  {
   "cell_type": "markdown",
   "metadata": {},
   "source": [
    "$$\\sum_{i = 0}^V a_{V-i} \\cdot y[k-i+V] = \\sum_{i = 0}^U b_{U-i} \\cdot x[k-i+U]$$"
   ]
  },
  {
   "cell_type": "markdown",
   "metadata": {},
   "source": [
    "- In impliziter daarstellung folgt"
   ]
  },
  {
   "cell_type": "markdown",
   "metadata": {},
   "source": [
    "$$ y[k] = \\frac{1}{a_V} - \\sum_{i = 1}^V a_{V-i} \\cdot y[k-i+V] + \\sum_{i = 0}^U b_{U-i} \\cdot x[k-i+U] $$"
   ]
  },
  {
   "cell_type": "markdown",
   "metadata": {},
   "source": [
    "- Anschließend kann die Gleichung mit der Linksverschiebung (2.3) in eine Z-Transformierte Gleichung überführt werden.\n",
    "$$\\sum_{i=0}^V a_i \\cdot \\big(Y(z) \\cdot z^{V-i} - z^{V-i} \\cdot \\sum_{k = 0}^{V-i-1} y[k] \\cdot z^{-k}\\big) = \\sum_{i=0}^U b_i \\cdot \\big(X(z) \\cdot z^{U-i} - z^{U-i} \\cdot \\sum_{k = 0}^{U-i-1} x[k] \\cdot z^{-k}\\big)$$"
   ]
  },
  {
   "cell_type": "markdown",
   "metadata": {},
   "source": [
    "- Die Homogene Lösung wird zuerst behandelt, diese hat die Form\n",
    "$$\n",
    "    \\sum_{i = 0}^V a_{V-i} \\cdot y[k-i+V] = 0\n",
    "$$"
   ]
  },
  {
   "cell_type": "markdown",
   "metadata": {},
   "source": [
    "### Beispiel\n",
    "- Anhand des Autonomen Systems der fibonacci Folge aus der Vorlesung mit den Anfangsbedingungen $y[0] = y[1] = 1$ \n",
    "$$y[k] = y[k-1] + y[k-2] $$"
   ]
  },
  {
   "cell_type": "markdown",
   "metadata": {},
   "source": [
    "$$ y[k] - y[k-1] - y[k-2] = 0$$"
   ]
  },
  {
   "cell_type": "markdown",
   "metadata": {},
   "source": [
    "- Verschiebung um $2$ nach links\n",
    "$$ y[k+2] - y[k+1] - y[k] = 0$$"
   ]
  },
  {
   "cell_type": "markdown",
   "metadata": {},
   "source": [
    "- Transformation in den Z-Bereich über die Linksverschiebung. Alle $a_i = 0$, $V = 2$."
   ]
  },
  {
   "cell_type": "markdown",
   "metadata": {},
   "source": [
    "$$Y(z) \\cdot z^2 - z^2 \\cdot \\big(\\sum_{k=0}^{1} y[k] \\cdot z^{-k}\\big)- (Y(z) \\cdot z - z \\cdot \\big(\\sum_{k=0}^{0} y[k] \\cdot z^{-k}\\big)- Y(z)= 0$$"
   ]
  },
  {
   "cell_type": "markdown",
   "metadata": {},
   "source": [
    "$$ z^2 Y(z) - z^2 y[0] - z^1 y[1] - (zY(z) - zy[0]) - Y(z) = 0 $$"
   ]
  },
  {
   "cell_type": "markdown",
   "metadata": {},
   "source": [
    "$$\n",
    "    z^2 Y(z) - z^2 - z - zY(z) + z - Y(z) = 0\n",
    "$$"
   ]
  },
  {
   "cell_type": "markdown",
   "metadata": {},
   "source": [
    "$$\n",
    "    Y(z) \\cdot (z^2 - z - 1) -z^2 = 0\n",
    "$$'"
   ]
  },
  {
   "cell_type": "markdown",
   "metadata": {},
   "source": [
    "- Bringt man $Y(z)$ auf die linke Seite ergibt sich\n",
    "$$\n",
    "    Y(z) = \\frac{z^2}{z^2 - z - 1}\n",
    "$$"
   ]
  },
  {
   "cell_type": "markdown",
   "metadata": {},
   "source": [
    "- Diese Gleichung kann mittels Partialbruchzerlegung in den Zeitbereich zurücktransformiert werden. Dafür muss zuerst eine Polynomdivision durchgeführt  werden um eine echt gebrochen Rationale Funktion zu erhalten.\n",
    "$$\n",
    "\\frac {z^2}{z^2 - z - 1} =  1 + \\frac{z+1}{z^2 - z - 1}  \n",
    "$$"
   ]
  },
  {
   "cell_type": "markdown",
   "metadata": {},
   "source": [
    "- Damit ist die Konstante $Y_0$ = 1 bzw $y[0] = \\delta[1]$ und die echt gebrochen rationale Funktion $\\frac{z + 1}{z^2 - z - 1}$ \n",
    "- Die Pole der Funktion sind $z_{-\\infty,0} = \\frac{1+\\sqrt{5}}{2}$ und $z_{-\\infty,1} = \\frac{1-\\sqrt{5}}{2}$"
   ]
  },
  {
   "cell_type": "markdown",
   "metadata": {},
   "source": [
    "- Führt man eine Partialbruchzerlegung durch und transformiert man diese mit der Korrespondenztabelle in den Zeitbereich zurück erhält man"
   ]
  },
  {
   "cell_type": "markdown",
   "metadata": {},
   "source": [
    "$$ y[k] = \\frac{1}{\\sqrt{5}} \\cdot  \\bigg( \\big( \\frac{1+\\sqrt{5}}{2} \\big)^k - \\big( \\frac{1-\\sqrt{5}}{2} \\big)^k \\bigg) $$"
   ]
  },
  {
   "cell_type": "markdown",
   "metadata": {},
   "source": [
    "- Damit ergibt sich dann aus der Formel der folgende Plot"
   ]
  },
  {
   "cell_type": "code",
   "execution_count": 19,
   "metadata": {},
   "outputs": [
    {
     "data": {
      "image/png": "[encoded data removed]",
      "text/plain": [
       "<Figure size 432x288 with 1 Axes>"
      ]
     },
     "metadata": {},
     "output_type": "display_data"
    }
   ],
   "source": [
    "%matplotlib inline\n",
    "\n",
    "import matplotlib\n",
    "import numpy as np\n",
    "import matplotlib.pyplot as plt\n",
    "import math\n",
    "\n",
    "amount = 10\n",
    "k = []\n",
    "for i in range(amount):\n",
    "    k.append(i)\n",
    "y = []\n",
    "for val in k:\n",
    "    first = math.pow((1+math.sqrt(5))/2, val)\n",
    "    second = math.pow((1-math.sqrt(5))/2, val)\n",
    "    tmp = ((1/math.sqrt(5))*(first - second))\n",
    "    y.append(tmp)\n",
    "plt.stem(k,y)\n",
    "plt.ylabel('Fibonacci Formel')\n",
    "plt.grid(True)\n",
    "plt.xlabel('k')\n",
    "plt.ylabel('y[k]')\n",
    "plt.show()"
   ]
  },
  {
   "cell_type": "markdown",
   "metadata": {},
   "source": [
    "## Signalflussplan\n",
    "Die Darstellung einer Differenzengleichung im Signalflussplan wurde schon in der Vorlesung vorgestellt.\n",
    "Die Verzögerungsglieder werden dabei nicht als $T$, sondern als $z^{-1}$ dargestellt.\n"
   ]
  },
  {
   "cell_type": "markdown",
   "metadata": {
    "slideshow": {
     "slide_type": "slide"
    }
   },
   "source": [
    "# Übertragungsglieder"
   ]
  },
  {
   "cell_type": "markdown",
   "metadata": {},
   "source": [
    "# Bezug zur Laplace-Transformation und Fourier-Transformation\n",
    "- Da es sich bei der Fourier-Transformation lediglich um einen Spezialfall der Laplace-Transformation handelt, wird der zusammenhang mit der Laplace-Transformation beschrieben\n",
    "\n",
    "- Die Laplace-Transformation ist eine Transformation für zeitkontinuierliche Signale. Sie transformiert das System aus dem Zeitbereich in den Frequenzbereich. Im Frequenzbereich kann das mathematische Problem dann einfacher gelößt werden. Anschließend kann durch die Rücktransformation, auch inverse Laplace-Transformation genannt, die Lösung dann zurück in den Zeitbereich transformiert werden. \n",
    "\n",
    "- Schon bei der Herleitung der Definitionsgleichung 1.5 der Z-Transformation wurde der Ansatz über die Laplace-Transformation gewählt. Dies liegt an dem Zusammenhang der beiden Transformationen. Die Z-Transformation ist das Äquivalent zur Laplace-Transformation für den Zeitdiskreten Fall.\n",
    "\n",
    "- Mit der Substitution $t = e^{T_A \\cdot s}$ aus der Herleitung der Definitionsgleichung wird die komplexe s-Ebene in die komplexe z-Ebene abgebildet\n",
    "s-Ebene\tz-Ebene\n",
    "\n",
    "s-Ebene          |          z-Ebene\n",
    "--------------------------|---------------------------\n",
    "imaginäre-Achse           | Einheitskreis\n",
    "linke komplexe Ebene      | Inneres des Einheitskreises\n",
    "rechte komplexe Ebene     | Äuseres des Einheitskreises\n",
    "Ursprung $s = 0$          | $z = 1$ "
   ]
  },
  {
   "cell_type": "markdown",
   "metadata": {},
   "source": [
    "# Zusammenfassung\n",
    "- Die Z-Transformation ist eines der wichtigsten Hilfsmittel zur Lösung von linearen Differenzengleichungen mit konstanten Koeffizienten. Sie vereinfacht die Theorie der diskreten LTI-Systeme und das Lösen der gegebenen mathematischen Probleme. Aus komplexen Faltungen im Zeitbereich zum bestimmen von Übertragungsgleichungen oder Systemantworten wird eine einfache Multiplikation im Z-Bereich. Sofern eine Z-Transformierte für ein diskretes LTI-System existiert ist es mit der einfachste Weg das System mit der Z-Transformation zu entschlüsseln."
   ]
  }
 ],
 "metadata": {
  "kernelspec": {
   "display_name": "Python 3",
   "language": "python",
   "name": "python3"
  },
  "language_info": {
   "codemirror_mode": {
    "name": "ipython",
    "version": 3
   },
   "file_extension": ".py",
   "mimetype": "text/x-python",
   "name": "python",
   "nbconvert_exporter": "python",
   "pygments_lexer": "ipython3",
   "version": "3.6.5"
  },
  "toc": {
   "base_numbering": 1,
   "nav_menu": {},
   "number_sections": true,
   "sideBar": true,
   "skip_h1_title": false,
   "title_cell": "Table of Contents",
   "title_sidebar": "Contents",
   "toc_cell": false,
   "toc_position": {},
   "toc_section_display": true,
   "toc_window_display": false
  }
 },
 "nbformat": 4,
 "nbformat_minor": 2
}
